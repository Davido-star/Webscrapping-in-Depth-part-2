{
  "nbformat": 4,
  "nbformat_minor": 0,
  "metadata": {
    "colab": {
      "name": "webscrape_2.ipynb",
      "provenance": [],
      "authorship_tag": "ABX9TyNFmaJe+vvtMyUG3eTYy2RW",
      "include_colab_link": true
    },
    "kernelspec": {
      "name": "python3",
      "display_name": "Python 3"
    },
    "language_info": {
      "name": "python"
    }
  },
  "cells": [
    {
      "cell_type": "markdown",
      "metadata": {
        "id": "view-in-github",
        "colab_type": "text"
      },
      "source": [
        "<a href=\"https://colab.research.google.com/github/Davido-star/Webscrapping-in-Depth-part-2/blob/main/webscrape_2.ipynb\" target=\"_parent\"><img src=\"https://colab.research.google.com/assets/colab-badge.svg\" alt=\"Open In Colab\"/></a>"
      ]
    },
    {
      "cell_type": "markdown",
      "metadata": {
        "id": "zda6HyxAI4ZZ"
      },
      "source": [
        "**Web Scraping Tutotial part 2**.   \n",
        "David smith.  \n",
        "04/01/2021.   \n",
        "\n"
      ]
    },
    {
      "cell_type": "code",
      "metadata": {
        "colab": {
          "base_uri": "https://localhost:8080/"
        },
        "id": "ft1qrjuuvjiO",
        "outputId": "c945d6cd-3b18-4bc2-ddff-c6ad27cf06d6"
      },
      "source": [
        "\"\"\"# install libraries\n",
        "!pip install requests\n",
        "!pip install lxml\n",
        "!pip install bs4\n",
        "\"\"\"\n",
        "# start by importing our libraries\n",
        "import requests\n",
        "import bs4\n",
        "#defining the url to scrape \n",
        "base_url = \"http://books.toscrape.com/catalogue/page-{}.html\" #page number swapped with {} for passing \n",
        "# Make our request\n",
        "res = requests.get(base_url.format(1))\n",
        "# start by initiating an empty list that will hold our output.\n",
        "one_star_titles = []\n",
        "# Now iterate to get info from each page.\n",
        "# We want to include page 5, so index should go up to, but not include 6,\n",
        "for n in range (1,6):\n",
        "  scrape_url = base_url.format(n)\n",
        "  res = requests.get(scrape_url)\n",
        "  soup = bs4.BeautifulSoup(res.text,'lxml')\n",
        "  books = soup.select(\".product_pod\")\n",
        "  # within our loop, we'll create another loop to parse the books and select star rating five.\n",
        "  for book in books:\n",
        "    if len(book.select('.star-rating.One')) != 0: # if the list is not empty, then we do have a 5 star book. Could also use if 'star-rating Five' in str(book)\n",
        "      book_title = book.select('a')[1]['title']\n",
        "      one_star_titles.append(book_title)\n",
        "\n",
        "# Running this should give us our list\n",
        "print('These Are the One Star Titles')\n",
        "one_star_titles"
      ],
      "execution_count": 31,
      "outputs": [
        {
          "output_type": "stream",
          "text": [
            "These Are the One Star Titles\n"
          ],
          "name": "stdout"
        },
        {
          "output_type": "execute_result",
          "data": {
            "text/plain": [
              "['Tipping the Velvet',\n",
              " 'Soumission',\n",
              " 'The Requiem Red',\n",
              " 'The Black Maria',\n",
              " 'Olio',\n",
              " 'Mesaerion: The Best Science Fiction Stories 1800-1849',\n",
              " 'In Her Wake',\n",
              " 'The Bear and the Piano',\n",
              " 'In a Dark, Dark Wood',\n",
              " 'When We Collided',\n",
              " 'Unbound: How Eight Technologies Made Us Human, Transformed Society, and Brought Our World to the Brink',\n",
              " 'Tsubasa: WoRLD CHRoNiCLE 2 (Tsubasa WoRLD CHRoNiCLE #2)',\n",
              " 'The Torch Is Passed: A Harding Family Story',\n",
              " 'The Secret of Dreadwillow Carse',\n",
              " 'The Pioneer Woman Cooks: Dinnertime: Comfort Classics, Freezer Food, 16-Minute Meals, and Other Delicious Ways to Solve Supper!',\n",
              " 'The Gutsy Girl: Escapades for Your Life of Epic Adventure',\n",
              " 'The Electric Pencil: Drawings from Inside State Hospital No. 3',\n",
              " 'The Age of Genius: The Seventeenth Century and the Birth of the Modern Mind',\n",
              " 'Pop Gun War, Volume 1: Gift',\n",
              " 'orange: The Complete Collection 1 (orange: The Complete Collection #1)',\n",
              " 'Online Marketing for Busy Authors: A Step-By-Step Guide',\n",
              " 'Layered: Baking, Building, and Styling Spectacular Cakes']"
            ]
          },
          "metadata": {
            "tags": []
          },
          "execution_count": 31
        }
      ]
    }
  ]
}